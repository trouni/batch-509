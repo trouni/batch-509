{
 "cells": [
  {
   "cell_type": "markdown",
   "metadata": {},
   "source": [
    "# Import custom packages in notebooks"
   ]
  },
  {
   "cell_type": "code",
   "execution_count": 1,
   "metadata": {},
   "outputs": [
    {
     "ename": "ModuleNotFoundError",
     "evalue": "No module named 'lewagon'",
     "output_type": "error",
     "traceback": [
      "\u001b[0;31m---------------------------------------------------\u001b[0m",
      "\u001b[0;31mModuleNotFoundError\u001b[0mTraceback (most recent call last)",
      "\u001b[0;32m<ipython-input-1-cb06dfbfa783>\u001b[0m in \u001b[0;36m<module>\u001b[0;34m\u001b[0m\n\u001b[0;32m----> 1\u001b[0;31m \u001b[0;32mfrom\u001b[0m \u001b[0mlewagon\u001b[0m\u001b[0;34m.\u001b[0m\u001b[0mcar\u001b[0m \u001b[0;32mimport\u001b[0m \u001b[0;34m*\u001b[0m\u001b[0;34m\u001b[0m\u001b[0;34m\u001b[0m\u001b[0m\n\u001b[0m",
      "\u001b[0;31mModuleNotFoundError\u001b[0m: No module named 'lewagon'"
     ]
    }
   ],
   "source": [
    "from lewagon.car import *"
   ]
  },
  {
   "cell_type": "code",
   "execution_count": 4,
   "metadata": {},
   "outputs": [
    {
     "data": {
      "text/plain": [
       "'/Users/trouni/Code/lewagon/lectures/data-science/Decision Science/01 Project Setup/notebook'"
      ]
     },
     "execution_count": 4,
     "metadata": {},
     "output_type": "execute_result"
    }
   ],
   "source": [
    "import os; os.getcwd()"
   ]
  },
  {
   "cell_type": "code",
   "execution_count": 5,
   "metadata": {},
   "outputs": [
    {
     "name": "stdout",
     "output_type": "stream",
     "text": [
      "/Users/trouni/Code/lewagon/lectures/data-science/Decision Science/01 Project Setup/notebook\n"
     ]
    }
   ],
   "source": [
    "!pwd"
   ]
  },
  {
   "cell_type": "code",
   "execution_count": 8,
   "metadata": {},
   "outputs": [
    {
     "data": {
      "text/plain": [
       "['/Users/trouni/Code/lewagon/lectures/data-science/Decision Science/01 Project Setup/notebook',\n",
       " '/Users/trouni/Code/lewagon/data-challenges/04-Decision-Science',\n",
       " '/Users/trouni/Code/lewagon/lectures/data-science/Decision Science/01 Project Setup/notebook',\n",
       " '/Users/trouni/opt/anaconda3/lib/python37.zip',\n",
       " '/Users/trouni/opt/anaconda3/lib/python3.7',\n",
       " '/Users/trouni/opt/anaconda3/lib/python3.7/lib-dynload',\n",
       " '',\n",
       " '/Users/trouni/.local/lib/python3.7/site-packages',\n",
       " '/Users/trouni/opt/anaconda3/lib/python3.7/site-packages',\n",
       " '/Users/trouni/opt/anaconda3/lib/python3.7/site-packages/aeosa',\n",
       " '/Users/trouni/opt/anaconda3/lib/python3.7/site-packages/IPython/extensions',\n",
       " '/Users/trouni/.ipython']"
      ]
     },
     "execution_count": 8,
     "metadata": {},
     "output_type": "execute_result"
    }
   ],
   "source": [
    "import sys; sys.path"
   ]
  },
  {
   "cell_type": "code",
   "execution_count": 9,
   "metadata": {},
   "outputs": [],
   "source": [
    "sys.path.append('/Users/trouni/Code/lewagon/lectures/data-science/Decision Science/01 Project Setup/')"
   ]
  },
  {
   "cell_type": "code",
   "execution_count": 11,
   "metadata": {},
   "outputs": [
    {
     "data": {
      "text/plain": [
       "['/Users/trouni/Code/lewagon/lectures/data-science/Decision Science/01 Project Setup/notebook',\n",
       " '/Users/trouni/Code/lewagon/data-challenges/04-Decision-Science',\n",
       " '/Users/trouni/Code/lewagon/lectures/data-science/Decision Science/01 Project Setup/notebook',\n",
       " '/Users/trouni/opt/anaconda3/lib/python37.zip',\n",
       " '/Users/trouni/opt/anaconda3/lib/python3.7',\n",
       " '/Users/trouni/opt/anaconda3/lib/python3.7/lib-dynload',\n",
       " '',\n",
       " '/Users/trouni/.local/lib/python3.7/site-packages',\n",
       " '/Users/trouni/opt/anaconda3/lib/python3.7/site-packages',\n",
       " '/Users/trouni/opt/anaconda3/lib/python3.7/site-packages/aeosa',\n",
       " '/Users/trouni/opt/anaconda3/lib/python3.7/site-packages/IPython/extensions',\n",
       " '/Users/trouni/.ipython',\n",
       " '/Users/trouni/Code/lewagon/lectures/data-science/Decision Science/01 Project Setup/']"
      ]
     },
     "execution_count": 11,
     "metadata": {},
     "output_type": "execute_result"
    }
   ],
   "source": [
    "sys.path"
   ]
  },
  {
   "cell_type": "code",
   "execution_count": null,
   "metadata": {},
   "outputs": [],
   "source": []
  }
 ],
 "metadata": {
  "kernelspec": {
   "display_name": "Python 3",
   "language": "python",
   "name": "python3"
  },
  "language_info": {
   "codemirror_mode": {
    "name": "ipython",
    "version": 3
   },
   "file_extension": ".py",
   "mimetype": "text/x-python",
   "name": "python",
   "nbconvert_exporter": "python",
   "pygments_lexer": "ipython3",
   "version": "3.7.4"
  }
 },
 "nbformat": 4,
 "nbformat_minor": 4
}
