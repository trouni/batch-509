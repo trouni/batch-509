{
 "cells": [
  {
   "cell_type": "code",
   "execution_count": 9,
   "metadata": {},
   "outputs": [
    {
     "name": "stdout",
     "output_type": "stream",
     "text": [
      "The autoreload extension is already loaded. To reload it, use:\n",
      "  %reload_ext autoreload\n"
     ]
    }
   ],
   "source": [
    "import matplotlib\n",
    "%matplotlib inline\n",
    "import numpy as np\n",
    "import pandas as pd\n",
    "%load_ext autoreload\n",
    "%autoreload 2"
   ]
  },
  {
   "cell_type": "markdown",
   "metadata": {},
   "source": [
    "Load the csv file in pandas"
   ]
  },
  {
   "cell_type": "code",
   "execution_count": 10,
   "metadata": {},
   "outputs": [
    {
     "data": {
      "text/html": [
       "<div>\n",
       "<style scoped>\n",
       "    .dataframe tbody tr th:only-of-type {\n",
       "        vertical-align: middle;\n",
       "    }\n",
       "\n",
       "    .dataframe tbody tr th {\n",
       "        vertical-align: top;\n",
       "    }\n",
       "\n",
       "    .dataframe thead th {\n",
       "        text-align: right;\n",
       "    }\n",
       "</style>\n",
       "<table border=\"1\" class=\"dataframe\">\n",
       "  <thead>\n",
       "    <tr style=\"text-align: right;\">\n",
       "      <th></th>\n",
       "      <th>artists</th>\n",
       "      <th>name</th>\n",
       "    </tr>\n",
       "  </thead>\n",
       "  <tbody>\n",
       "    <tr>\n",
       "      <th>0</th>\n",
       "      <td>Ed Sheeran</td>\n",
       "      <td>Shape of You</td>\n",
       "    </tr>\n",
       "    <tr>\n",
       "      <th>1</th>\n",
       "      <td>Luis Fonsi</td>\n",
       "      <td>Despacito - Remix</td>\n",
       "    </tr>\n",
       "    <tr>\n",
       "      <th>2</th>\n",
       "      <td>Luis Fonsi</td>\n",
       "      <td>Despacito (Featuring Daddy Yankee)</td>\n",
       "    </tr>\n",
       "    <tr>\n",
       "      <th>3</th>\n",
       "      <td>The Chainsmokers</td>\n",
       "      <td>Something Just Like This</td>\n",
       "    </tr>\n",
       "    <tr>\n",
       "      <th>4</th>\n",
       "      <td>DJ Khaled</td>\n",
       "      <td>I'm the One</td>\n",
       "    </tr>\n",
       "  </tbody>\n",
       "</table>\n",
       "</div>"
      ],
      "text/plain": [
       "            artists                                name\n",
       "0        Ed Sheeran                        Shape of You\n",
       "1        Luis Fonsi                   Despacito - Remix\n",
       "2        Luis Fonsi  Despacito (Featuring Daddy Yankee)\n",
       "3  The Chainsmokers            Something Just Like This\n",
       "4         DJ Khaled                         I'm the One"
      ]
     },
     "execution_count": 10,
     "metadata": {},
     "output_type": "execute_result"
    }
   ],
   "source": [
    "tracks_df = pd.read_csv('../data/spotify_2017.csv')\n",
    "tracks_df = tracks_df[['artists', 'name']]; tracks_df.head()"
   ]
  },
  {
   "cell_type": "markdown",
   "metadata": {},
   "source": [
    "**Challenge**: Add lyrics to the DataFrame"
   ]
  },
  {
   "cell_type": "markdown",
   "metadata": {},
   "source": [
    "## API"
   ]
  },
  {
   "cell_type": "code",
   "execution_count": 11,
   "metadata": {},
   "outputs": [],
   "source": [
    "from music import fetch_lyrics"
   ]
  },
  {
   "cell_type": "code",
   "execution_count": 12,
   "metadata": {},
   "outputs": [
    {
     "data": {
      "text/plain": [
       "\"The club isn't the best place to find a lover\\nSo the bar is where I go\\nMe and my friends at the tabl\""
      ]
     },
     "execution_count": 12,
     "metadata": {},
     "output_type": "execute_result"
    }
   ],
   "source": [
    "fetch_lyrics('Ed Sheeran', 'Shape of You')[0:100]"
   ]
  },
  {
   "cell_type": "code",
   "execution_count": 13,
   "metadata": {},
   "outputs": [
    {
     "data": {
      "text/plain": [
       "''"
      ]
     },
     "execution_count": 13,
     "metadata": {},
     "output_type": "execute_result"
    }
   ],
   "source": [
    "fetch_lyrics('Ed Sheeran', 'Moskau')[0:100]"
   ]
  },
  {
   "cell_type": "code",
   "execution_count": 21,
   "metadata": {},
   "outputs": [
    {
     "name": "stdout",
     "output_type": "stream",
     "text": [
      "Ed Sheeran Shape of You\n",
      "Luis Fonsi Despacito - Remix\n",
      "Luis Fonsi Despacito (Featuring Daddy Yankee)\n",
      "The Chainsmokers Something Just Like This\n",
      "DJ Khaled I'm the One\n",
      "Kendrick Lamar HUMBLE.\n",
      "Kygo It Ain't Me (with Selena Gomez)\n",
      "French Montana Unforgettable\n",
      "Bruno Mars That's What I Like\n",
      "ZAYN I Don’t Wanna Live Forever (Fifty Shades Darker) - From \"Fifty Shades Darker (Original Motion Picture Soundtrack)\"\n",
      "Lil Uzi Vert XO TOUR Llif3\n",
      "The Chainsmokers Paris\n",
      "Zedd Stay (with Alessia Cara)\n",
      "Charlie Puth Attention\n",
      "Future Mask Off\n",
      "Post Malone Congratulations\n",
      "Jason Derulo Swalla (feat. Nicki Minaj & Ty Dolla $ign)\n",
      "Ed Sheeran Castle on the Hill\n",
      "Clean Bandit Rockabye (feat. Sean Paul & Anne-Marie)\n",
      "Imagine Dragons Believer\n",
      "J Balvin Mi Gente\n",
      "Imagine Dragons Thunder\n",
      "James Arthur Say You Won't Let Go\n",
      "Shawn Mendes There's Nothing Holdin' Me Back\n",
      "Danny Ocean Me Rehúso\n",
      "Julia Michaels Issues\n",
      "Ed Sheeran Galway Girl\n",
      "Martin Garrix Scared to Be Lonely\n",
      "The Chainsmokers Closer\n",
      "Clean Bandit Symphony (feat. Zara Larsson)\n",
      "The Weeknd I Feel It Coming\n",
      "The Weeknd Starboy\n",
      "DJ Khaled Wild Thoughts\n",
      "Calvin Harris Slide\n",
      "Dua Lipa New Rules\n",
      "Logic 1-800-273-8255\n",
      "Drake Passionfruit\n",
      "Post Malone rockstar\n",
      "Liam Payne Strip That Down\n",
      "David Guetta 2U (feat. Justin Bieber)\n",
      "Ed Sheeran Perfect\n",
      "Starley Call On Me - Ryan Riback Extended Remix\n",
      "Calvin Harris Feels\n",
      "Jonas Blue Mama\n",
      "Maluma Felices los 4\n",
      "KYLE iSpy (feat. Lil Yachty)\n",
      "Khalid Location\n",
      "Shakira Chantaje\n",
      "Migos Bad and Boujee (feat. Lil Uzi Vert)\n",
      "Camila Cabello Havana\n",
      "Martin Jensen Solo Dance\n",
      "Drake Fake Love\n",
      "DJ Snake Let Me Love You\n",
      "Axwell /\\ Ingrosso More Than You Know\n",
      "Drake One Dance\n",
      "Enrique Iglesias SUBEME LA RADIO\n",
      "Maggie Lindemann Pretty Girl - Cheat Codes X CADE Remix\n",
      "Demi Lovato Sorry Not Sorry\n",
      "Childish Gambino Redbone\n",
      "Bruno Mars 24K Magic\n",
      "Kendrick Lamar DNA.\n",
      "Nicky Jam El Amante\n",
      "Jax Jones You Don't Know Me - Radio Edit\n",
      "Katy Perry Chained To The Rhythm\n",
      "Cheat Codes No Promises (feat. Demi Lovato)\n",
      "Maroon 5 Don't Wanna Know (feat. Kendrick Lamar)\n",
      "Alessia Cara How Far I'll Go - From \"Moana\"\n",
      "Niall Horan Slow Hands\n",
      "Wisin Escápate Conmigo\n",
      "Big Sean Bounce Back\n",
      "Harry Styles Sign of the Times\n",
      "Travis Scott goosebumps\n",
      "Khalid Young Dumb & Broke\n",
      "Martin Garrix There for You\n",
      "Maroon 5 Cold (feat. Future)\n",
      "Marshmello Silence\n",
      "Sam Smith Too Good At Goodbyes\n",
      "Steve Aoki Just Hold On\n",
      "Taylor Swift Look What You Made Me Do\n",
      "Macklemore Glorious (feat. Skylar Grey)\n",
      "Hailee Steinfeld Starving\n",
      "CNCO Reggaetón Lento (Bailemos)\n",
      "AJR Weak\n",
      "Ariana Grande Side To Side\n",
      "Zion & Lennox Otra Vez (feat. J Balvin)\n",
      "Lauv I Like Me Better\n",
      "Martin Garrix In the Name of Love\n",
      "Major Lazer Cold Water (feat. Justin Bieber & MØ)\n",
      "Miley Cyrus Malibu\n",
      "The Vamps All Night\n",
      "Alok Hear Me Now\n",
      "Rita Ora Your Song\n",
      "Chris Jeday Ahora Dice\n",
      "Justin Bieber Friends (with BloodPop®)\n",
      "21 Savage Bank Account\n",
      "Machine Gun Kelly Bad Things (with Camila Cabello)\n",
      "The Chainsmokers Don't Let Me Down\n",
      "Sam Hunt Body Like A Back Road\n",
      "Halsey Now Or Never\n",
      "ZAYN Dusk Till Dawn - Radio Edit\n",
      "CPU times: user 2.32 s, sys: 203 ms, total: 2.52 s\n",
      "Wall time: 45.1 s\n"
     ]
    }
   ],
   "source": [
    "%%time\n",
    "for index, row in tracks_df.iterrows():\n",
    "    print(row['artists'], row['name'])\n",
    "    tracks_df.loc[index, 'lyrics'] = fetch_lyrics(row['artists'], row['name'])"
   ]
  },
  {
   "cell_type": "code",
   "execution_count": 22,
   "metadata": {},
   "outputs": [
    {
     "data": {
      "text/html": [
       "<div>\n",
       "<style scoped>\n",
       "    .dataframe tbody tr th:only-of-type {\n",
       "        vertical-align: middle;\n",
       "    }\n",
       "\n",
       "    .dataframe tbody tr th {\n",
       "        vertical-align: top;\n",
       "    }\n",
       "\n",
       "    .dataframe thead th {\n",
       "        text-align: right;\n",
       "    }\n",
       "</style>\n",
       "<table border=\"1\" class=\"dataframe\">\n",
       "  <thead>\n",
       "    <tr style=\"text-align: right;\">\n",
       "      <th></th>\n",
       "      <th>artists</th>\n",
       "      <th>name</th>\n",
       "      <th>lyrics</th>\n",
       "    </tr>\n",
       "  </thead>\n",
       "  <tbody>\n",
       "    <tr>\n",
       "      <th>0</th>\n",
       "      <td>Ed Sheeran</td>\n",
       "      <td>Shape of You</td>\n",
       "      <td>The club isn't the best place to find a lover\\...</td>\n",
       "    </tr>\n",
       "    <tr>\n",
       "      <th>1</th>\n",
       "      <td>Luis Fonsi</td>\n",
       "      <td>Despacito - Remix</td>\n",
       "      <td>Come on over in my direction \\r\\nSo thankful f...</td>\n",
       "    </tr>\n",
       "    <tr>\n",
       "      <th>2</th>\n",
       "      <td>Luis Fonsi</td>\n",
       "      <td>Despacito (Featuring Daddy Yankee)</td>\n",
       "      <td>Ay\\nFonsi\\nDy\\nOh oh\\nOh no, oh no\\nOh\\nYeah\\n...</td>\n",
       "    </tr>\n",
       "    <tr>\n",
       "      <th>3</th>\n",
       "      <td>The Chainsmokers</td>\n",
       "      <td>Something Just Like This</td>\n",
       "      <td>I've been reading books of old\\r\\nThe legends ...</td>\n",
       "    </tr>\n",
       "    <tr>\n",
       "      <th>4</th>\n",
       "      <td>DJ Khaled</td>\n",
       "      <td>I'm the One</td>\n",
       "      <td></td>\n",
       "    </tr>\n",
       "    <tr>\n",
       "      <th>...</th>\n",
       "      <td>...</td>\n",
       "      <td>...</td>\n",
       "      <td>...</td>\n",
       "    </tr>\n",
       "    <tr>\n",
       "      <th>95</th>\n",
       "      <td>Machine Gun Kelly</td>\n",
       "      <td>Bad Things (with Camila Cabello)</td>\n",
       "      <td></td>\n",
       "    </tr>\n",
       "    <tr>\n",
       "      <th>96</th>\n",
       "      <td>The Chainsmokers</td>\n",
       "      <td>Don't Let Me Down</td>\n",
       "      <td>Crashing, hit a wall\\nRight now I need a mirac...</td>\n",
       "    </tr>\n",
       "    <tr>\n",
       "      <th>97</th>\n",
       "      <td>Sam Hunt</td>\n",
       "      <td>Body Like A Back Road</td>\n",
       "      <td>Got a girl from the south side, got braids in ...</td>\n",
       "    </tr>\n",
       "    <tr>\n",
       "      <th>98</th>\n",
       "      <td>Halsey</td>\n",
       "      <td>Now Or Never</td>\n",
       "      <td>I don't wanna fight right now\\nKnow you always...</td>\n",
       "    </tr>\n",
       "    <tr>\n",
       "      <th>99</th>\n",
       "      <td>ZAYN</td>\n",
       "      <td>Dusk Till Dawn - Radio Edit</td>\n",
       "      <td></td>\n",
       "    </tr>\n",
       "  </tbody>\n",
       "</table>\n",
       "<p>100 rows × 3 columns</p>\n",
       "</div>"
      ],
      "text/plain": [
       "              artists                                name  \\\n",
       "0          Ed Sheeran                        Shape of You   \n",
       "1          Luis Fonsi                   Despacito - Remix   \n",
       "2          Luis Fonsi  Despacito (Featuring Daddy Yankee)   \n",
       "3    The Chainsmokers            Something Just Like This   \n",
       "4           DJ Khaled                         I'm the One   \n",
       "..                ...                                 ...   \n",
       "95  Machine Gun Kelly    Bad Things (with Camila Cabello)   \n",
       "96   The Chainsmokers                   Don't Let Me Down   \n",
       "97           Sam Hunt               Body Like A Back Road   \n",
       "98             Halsey                        Now Or Never   \n",
       "99               ZAYN         Dusk Till Dawn - Radio Edit   \n",
       "\n",
       "                                               lyrics  \n",
       "0   The club isn't the best place to find a lover\\...  \n",
       "1   Come on over in my direction \\r\\nSo thankful f...  \n",
       "2   Ay\\nFonsi\\nDy\\nOh oh\\nOh no, oh no\\nOh\\nYeah\\n...  \n",
       "3   I've been reading books of old\\r\\nThe legends ...  \n",
       "4                                                      \n",
       "..                                                ...  \n",
       "95                                                     \n",
       "96  Crashing, hit a wall\\nRight now I need a mirac...  \n",
       "97  Got a girl from the south side, got braids in ...  \n",
       "98  I don't wanna fight right now\\nKnow you always...  \n",
       "99                                                     \n",
       "\n",
       "[100 rows x 3 columns]"
      ]
     },
     "execution_count": 22,
     "metadata": {},
     "output_type": "execute_result"
    }
   ],
   "source": [
    "tracks_df"
   ]
  },
  {
   "cell_type": "code",
   "execution_count": null,
   "metadata": {},
   "outputs": [],
   "source": []
  }
 ],
 "metadata": {
  "kernelspec": {
   "display_name": "Python 3",
   "language": "python",
   "name": "python3"
  },
  "language_info": {
   "codemirror_mode": {
    "name": "ipython",
    "version": 3
   },
   "file_extension": ".py",
   "mimetype": "text/x-python",
   "name": "python",
   "nbconvert_exporter": "python",
   "pygments_lexer": "ipython3",
   "version": "3.7.4"
  }
 },
 "nbformat": 4,
 "nbformat_minor": 4
}
