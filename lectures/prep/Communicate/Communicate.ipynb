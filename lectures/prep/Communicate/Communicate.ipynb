{
 "cells": [
  {
   "cell_type": "markdown",
   "metadata": {
    "slideshow": {
     "slide_type": "slide"
    }
   },
   "source": [
    "# My title"
   ]
  },
  {
   "cell_type": "markdown",
   "metadata": {
    "slideshow": {
     "slide_type": "subslide"
    }
   },
   "source": [
    "## Other title"
   ]
  },
  {
   "cell_type": "markdown",
   "metadata": {
    "slideshow": {
     "slide_type": "subslide"
    }
   },
   "source": [
    "## New title"
   ]
  },
  {
   "cell_type": "markdown",
   "metadata": {
    "slideshow": {
     "slide_type": "fragment"
    }
   },
   "source": [
    "Fragment"
   ]
  },
  {
   "cell_type": "markdown",
   "metadata": {},
   "source": []
  },
  {
   "cell_type": "markdown",
   "metadata": {},
   "source": []
  },
  {
   "cell_type": "code",
   "execution_count": 105,
   "metadata": {},
   "outputs": [],
   "source": [
    "import numpy as np\n",
    "import pandas as pd\n",
    "import ipywidgets as widgets\n",
    "from ipywidgets import interact, interact_manual"
   ]
  },
  {
   "cell_type": "code",
   "execution_count": 107,
   "metadata": {},
   "outputs": [
    {
     "data": {
      "application/vnd.jupyter.widget-view+json": {
       "model_id": "8a347ca552324277b6a7310a9d87a288",
       "version_major": 2,
       "version_minor": 0
      },
      "text/plain": [
       "interactive(children=(IntSlider(value=1, description='months', max=3, min=-1), Output()), _dom_classes=('widge…"
      ]
     },
     "metadata": {},
     "output_type": "display_data"
    }
   ],
   "source": [
    "@interact\n",
    "def sensitivity(months=1):\n",
    "    lift = np.arange(0.01, 0.05, 0.01)\n",
    "    benefit = pd.DataFrame({'lift': lift, 'benefit': 100000*20*lift*months})\n",
    "    mandays = np.arange(20, 60, 10)\n",
    "    costs = pd.DataFrame({'mandays':mandays, 'cost': mandays*500*3})\n",
    "    benefit['ones'] = 1\n",
    "    costs['ones'] = 1\n",
    "    df = benefit.merge(costs, on='ones').drop('ones', axis=1)\n",
    "    df['ROI'] = df.benefit - df.cost\n",
    "    df = df[['lift', 'mandays', 'ROI']].set_index(['lift', 'mandays']).unstack()\n",
    "    df.style.applymap(lambda x: 'color: red' if x < 0 else None)\n",
    "    return df\n",
    "\n",
    "# w = widgets.Select(months=[1,2,3])\n",
    "# interactive(sensitivity, months=w)\n",
    "# sensitivity(3)"
   ]
  },
  {
   "cell_type": "code",
   "execution_count": 103,
   "metadata": {},
   "outputs": [
    {
     "name": "stdout",
     "output_type": "stream",
     "text": [
      "/Users/trouni/Code/lewagon/lectures/data-science/prep/Communicate\n"
     ]
    }
   ],
   "source": [
    "!pwd"
   ]
  },
  {
   "cell_type": "code",
   "execution_count": null,
   "metadata": {},
   "outputs": [],
   "source": []
  }
 ],
 "metadata": {
  "kernelspec": {
   "display_name": "Python 3",
   "language": "python",
   "name": "python3"
  },
  "language_info": {
   "codemirror_mode": {
    "name": "ipython",
    "version": 3
   },
   "file_extension": ".py",
   "mimetype": "text/x-python",
   "name": "python",
   "nbconvert_exporter": "python",
   "pygments_lexer": "ipython3",
   "version": "3.7.4"
  }
 },
 "nbformat": 4,
 "nbformat_minor": 4
}
