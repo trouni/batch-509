{
 "cells": [
  {
   "cell_type": "markdown",
   "metadata": {},
   "source": [
    "# Data Sourcing in Pandas"
   ]
  },
  {
   "cell_type": "code",
   "execution_count": 4,
   "metadata": {},
   "outputs": [],
   "source": [
    "import matplotlib\n",
    "%matplotlib inline\n",
    "import numpy as np\n",
    "import pandas as pd\n"
   ]
  },
  {
   "cell_type": "markdown",
   "metadata": {},
   "source": [
    "Loading the csv:"
   ]
  },
  {
   "cell_type": "code",
   "execution_count": 30,
   "metadata": {},
   "outputs": [],
   "source": [
    "tracks_df = pd.read_csv('../../data/spotify_2017.csv')"
   ]
  },
  {
   "cell_type": "code",
   "execution_count": 31,
   "metadata": {},
   "outputs": [],
   "source": [
    "tracks_df = tracks_df[['artists', 'name']].copy()"
   ]
  },
  {
   "cell_type": "markdown",
   "metadata": {},
   "source": [
    "**Goal**: Fetch the lyrics of the song and add them to the dataframe"
   ]
  },
  {
   "cell_type": "code",
   "execution_count": 32,
   "metadata": {},
   "outputs": [],
   "source": [
    "from music import fetch_lyrics"
   ]
  },
  {
   "cell_type": "code",
   "execution_count": 33,
   "metadata": {},
   "outputs": [
    {
     "data": {
      "text/plain": [
       "'[Verse 1]\\nMoskau\\nFremd und geheimnisvoll\\nTürme aus rotem Gold\\nKalt wie das Eis\\nMoskau\\nDoch wer dich '"
      ]
     },
     "execution_count": 33,
     "metadata": {},
     "output_type": "execute_result"
    }
   ],
   "source": [
    "fetch_lyrics('Dshinghis Khan', 'Moskau')[0:100]"
   ]
  },
  {
   "cell_type": "code",
   "execution_count": 36,
   "metadata": {},
   "outputs": [
    {
     "name": "stdout",
     "output_type": "stream",
     "text": [
      "CPU times: user 2.07 s, sys: 145 ms, total: 2.21 s\n",
      "Wall time: 1min 16s\n"
     ]
    }
   ],
   "source": [
    "%%time\n",
    "for index, row in tracks_df.iterrows():\n",
    "    print(row['artists'], row['name'])\n",
    "    tracks_df.loc[index, 'lyrics'] = fetch_lyrics(row['artists'], row['name'])"
   ]
  },
  {
   "cell_type": "code",
   "execution_count": 37,
   "metadata": {},
   "outputs": [
    {
     "data": {
      "text/html": [
       "<div>\n",
       "<style scoped>\n",
       "    .dataframe tbody tr th:only-of-type {\n",
       "        vertical-align: middle;\n",
       "    }\n",
       "\n",
       "    .dataframe tbody tr th {\n",
       "        vertical-align: top;\n",
       "    }\n",
       "\n",
       "    .dataframe thead th {\n",
       "        text-align: right;\n",
       "    }\n",
       "</style>\n",
       "<table border=\"1\" class=\"dataframe\">\n",
       "  <thead>\n",
       "    <tr style=\"text-align: right;\">\n",
       "      <th></th>\n",
       "      <th>artists</th>\n",
       "      <th>name</th>\n",
       "      <th>lyrics</th>\n",
       "    </tr>\n",
       "  </thead>\n",
       "  <tbody>\n",
       "    <tr>\n",
       "      <th>0</th>\n",
       "      <td>Ed Sheeran</td>\n",
       "      <td>Shape of You</td>\n",
       "      <td>The club isn't the best place to find a lover\\...</td>\n",
       "    </tr>\n",
       "    <tr>\n",
       "      <th>1</th>\n",
       "      <td>Luis Fonsi</td>\n",
       "      <td>Despacito - Remix</td>\n",
       "      <td>Come on over in my direction \\r\\nSo thankful f...</td>\n",
       "    </tr>\n",
       "    <tr>\n",
       "      <th>2</th>\n",
       "      <td>Luis Fonsi</td>\n",
       "      <td>Despacito (Featuring Daddy Yankee)</td>\n",
       "      <td>Ay\\nFonsi\\nDy\\nOh oh\\nOh no, oh no\\nOh\\nYeah\\n...</td>\n",
       "    </tr>\n",
       "    <tr>\n",
       "      <th>3</th>\n",
       "      <td>The Chainsmokers</td>\n",
       "      <td>Something Just Like This</td>\n",
       "      <td>I've been reading books of old\\r\\nThe legends ...</td>\n",
       "    </tr>\n",
       "    <tr>\n",
       "      <th>4</th>\n",
       "      <td>DJ Khaled</td>\n",
       "      <td>I'm the One</td>\n",
       "      <td></td>\n",
       "    </tr>\n",
       "    <tr>\n",
       "      <th>...</th>\n",
       "      <td>...</td>\n",
       "      <td>...</td>\n",
       "      <td>...</td>\n",
       "    </tr>\n",
       "    <tr>\n",
       "      <th>95</th>\n",
       "      <td>Machine Gun Kelly</td>\n",
       "      <td>Bad Things (with Camila Cabello)</td>\n",
       "      <td></td>\n",
       "    </tr>\n",
       "    <tr>\n",
       "      <th>96</th>\n",
       "      <td>The Chainsmokers</td>\n",
       "      <td>Don't Let Me Down</td>\n",
       "      <td>Crashing, hit a wall\\nRight now I need a mirac...</td>\n",
       "    </tr>\n",
       "    <tr>\n",
       "      <th>97</th>\n",
       "      <td>Sam Hunt</td>\n",
       "      <td>Body Like A Back Road</td>\n",
       "      <td>Got a girl from the south side, got braids in ...</td>\n",
       "    </tr>\n",
       "    <tr>\n",
       "      <th>98</th>\n",
       "      <td>Halsey</td>\n",
       "      <td>Now Or Never</td>\n",
       "      <td>I don't wanna fight right now\\nKnow you always...</td>\n",
       "    </tr>\n",
       "    <tr>\n",
       "      <th>99</th>\n",
       "      <td>ZAYN</td>\n",
       "      <td>Dusk Till Dawn - Radio Edit</td>\n",
       "      <td></td>\n",
       "    </tr>\n",
       "  </tbody>\n",
       "</table>\n",
       "<p>100 rows × 3 columns</p>\n",
       "</div>"
      ],
      "text/plain": [
       "              artists                                name  \\\n",
       "0          Ed Sheeran                        Shape of You   \n",
       "1          Luis Fonsi                   Despacito - Remix   \n",
       "2          Luis Fonsi  Despacito (Featuring Daddy Yankee)   \n",
       "3    The Chainsmokers            Something Just Like This   \n",
       "4           DJ Khaled                         I'm the One   \n",
       "..                ...                                 ...   \n",
       "95  Machine Gun Kelly    Bad Things (with Camila Cabello)   \n",
       "96   The Chainsmokers                   Don't Let Me Down   \n",
       "97           Sam Hunt               Body Like A Back Road   \n",
       "98             Halsey                        Now Or Never   \n",
       "99               ZAYN         Dusk Till Dawn - Radio Edit   \n",
       "\n",
       "                                               lyrics  \n",
       "0   The club isn't the best place to find a lover\\...  \n",
       "1   Come on over in my direction \\r\\nSo thankful f...  \n",
       "2   Ay\\nFonsi\\nDy\\nOh oh\\nOh no, oh no\\nOh\\nYeah\\n...  \n",
       "3   I've been reading books of old\\r\\nThe legends ...  \n",
       "4                                                      \n",
       "..                                                ...  \n",
       "95                                                     \n",
       "96  Crashing, hit a wall\\nRight now I need a mirac...  \n",
       "97  Got a girl from the south side, got braids in ...  \n",
       "98  I don't wanna fight right now\\nKnow you always...  \n",
       "99                                                     \n",
       "\n",
       "[100 rows x 3 columns]"
      ]
     },
     "execution_count": 37,
     "metadata": {},
     "output_type": "execute_result"
    }
   ],
   "source": [
    "tracks_df"
   ]
  },
  {
   "cell_type": "code",
   "execution_count": null,
   "metadata": {},
   "outputs": [],
   "source": []
  }
 ],
 "metadata": {
  "kernelspec": {
   "display_name": "Python 3",
   "language": "python",
   "name": "python3"
  },
  "language_info": {
   "codemirror_mode": {
    "name": "ipython",
    "version": 3
   },
   "file_extension": ".py",
   "mimetype": "text/x-python",
   "name": "python",
   "nbconvert_exporter": "python",
   "pygments_lexer": "ipython3",
   "version": "3.7.4"
  }
 },
 "nbformat": 4,
 "nbformat_minor": 4
}
