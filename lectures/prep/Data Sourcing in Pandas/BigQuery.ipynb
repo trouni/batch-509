{
 "cells": [
  {
   "cell_type": "markdown",
   "metadata": {},
   "source": [
    "# Google Big Query"
   ]
  },
  {
   "cell_type": "code",
   "execution_count": 2,
   "metadata": {},
   "outputs": [],
   "source": [
    "import pandas_gbq"
   ]
  },
  {
   "cell_type": "code",
   "execution_count": 4,
   "metadata": {},
   "outputs": [
    {
     "name": "stderr",
     "output_type": "stream",
     "text": [
      "Downloading: 100%|██████████| 5368/5368 [00:02<00:00, 2345.37rows/s]\n"
     ]
    }
   ],
   "source": [
    "project_id = 'le-wagon-data-science' # TODO: replace with your own!\n",
    "\n",
    "sql = \"\"\"\n",
    "SELECT faa_identifier, name, longitude, latitude, airport_type, service_city, country\n",
    "FROM `bigquery-public-data.faa.us_airports`\n",
    "WHERE airport_use = 'Public'\n",
    "\"\"\"\n",
    "airports_df = pandas_gbq.read_gbq(sql, project_id=project_id)"
   ]
  },
  {
   "cell_type": "code",
   "execution_count": 6,
   "metadata": {},
   "outputs": [
    {
     "data": {
      "text/html": [
       "<div>\n",
       "<style scoped>\n",
       "    .dataframe tbody tr th:only-of-type {\n",
       "        vertical-align: middle;\n",
       "    }\n",
       "\n",
       "    .dataframe tbody tr th {\n",
       "        vertical-align: top;\n",
       "    }\n",
       "\n",
       "    .dataframe thead th {\n",
       "        text-align: right;\n",
       "    }\n",
       "</style>\n",
       "<table border=\"1\" class=\"dataframe\">\n",
       "  <thead>\n",
       "    <tr style=\"text-align: right;\">\n",
       "      <th></th>\n",
       "      <th>faa_identifier</th>\n",
       "      <th>name</th>\n",
       "      <th>longitude</th>\n",
       "      <th>latitude</th>\n",
       "      <th>airport_type</th>\n",
       "      <th>service_city</th>\n",
       "      <th>country</th>\n",
       "    </tr>\n",
       "  </thead>\n",
       "  <tbody>\n",
       "    <tr>\n",
       "      <th>0</th>\n",
       "      <td>X01</td>\n",
       "      <td>Everglades Arpk</td>\n",
       "      <td>-81.390281</td>\n",
       "      <td>25.848866</td>\n",
       "      <td>Aerodome</td>\n",
       "      <td>Everglades</td>\n",
       "      <td>United States</td>\n",
       "    </tr>\n",
       "    <tr>\n",
       "      <th>1</th>\n",
       "      <td>0C8</td>\n",
       "      <td>Cushing Fld Ltd</td>\n",
       "      <td>-88.605635</td>\n",
       "      <td>41.519483</td>\n",
       "      <td>Aerodome</td>\n",
       "      <td>Newark</td>\n",
       "      <td>United States</td>\n",
       "    </tr>\n",
       "    <tr>\n",
       "      <th>2</th>\n",
       "      <td>7L8</td>\n",
       "      <td>Post-Air</td>\n",
       "      <td>-86.013876</td>\n",
       "      <td>39.750050</td>\n",
       "      <td>Aerodome</td>\n",
       "      <td>Indianapolis</td>\n",
       "      <td>United States</td>\n",
       "    </tr>\n",
       "    <tr>\n",
       "      <th>3</th>\n",
       "      <td>71K</td>\n",
       "      <td>Westport</td>\n",
       "      <td>-97.383702</td>\n",
       "      <td>37.647701</td>\n",
       "      <td>Aerodome</td>\n",
       "      <td>Wichita</td>\n",
       "      <td>United States</td>\n",
       "    </tr>\n",
       "    <tr>\n",
       "      <th>4</th>\n",
       "      <td>2M7</td>\n",
       "      <td>Hoffman's Black Mountain Aerodrome</td>\n",
       "      <td>-84.308061</td>\n",
       "      <td>45.531953</td>\n",
       "      <td>Aerodome</td>\n",
       "      <td>Cheboygan</td>\n",
       "      <td>United States</td>\n",
       "    </tr>\n",
       "  </tbody>\n",
       "</table>\n",
       "</div>"
      ],
      "text/plain": [
       "  faa_identifier                                name  longitude   latitude  \\\n",
       "0            X01                     Everglades Arpk -81.390281  25.848866   \n",
       "1            0C8                     Cushing Fld Ltd -88.605635  41.519483   \n",
       "2            7L8                            Post-Air -86.013876  39.750050   \n",
       "3            71K                            Westport -97.383702  37.647701   \n",
       "4            2M7  Hoffman's Black Mountain Aerodrome -84.308061  45.531953   \n",
       "\n",
       "  airport_type  service_city        country  \n",
       "0     Aerodome    Everglades  United States  \n",
       "1     Aerodome        Newark  United States  \n",
       "2     Aerodome  Indianapolis  United States  \n",
       "3     Aerodome       Wichita  United States  \n",
       "4     Aerodome     Cheboygan  United States  "
      ]
     },
     "execution_count": 6,
     "metadata": {},
     "output_type": "execute_result"
    }
   ],
   "source": [
    "airports_df.head()"
   ]
  },
  {
   "cell_type": "code",
   "execution_count": null,
   "metadata": {},
   "outputs": [],
   "source": []
  }
 ],
 "metadata": {
  "kernelspec": {
   "display_name": "Python 3",
   "language": "python",
   "name": "python3"
  },
  "language_info": {
   "codemirror_mode": {
    "name": "ipython",
    "version": 3
   },
   "file_extension": ".py",
   "mimetype": "text/x-python",
   "name": "python",
   "nbconvert_exporter": "python",
   "pygments_lexer": "ipython3",
   "version": "3.7.4"
  }
 },
 "nbformat": 4,
 "nbformat_minor": 4
}
